{
 "cells": [
  {
   "cell_type": "code",
   "execution_count": 1,
   "id": "defbd373",
   "metadata": {},
   "outputs": [
    {
     "name": "stderr",
     "output_type": "stream",
     "text": [
      "/usr/local/lib/python3.7/site-packages/ipykernel_launcher.py:8: TqdmExperimentalWarning: Using `tqdm.autonotebook.tqdm` in notebook mode. Use `tqdm.tqdm` instead to force console mode (e.g. in jupyter console)\n",
      "  \n"
     ]
    }
   ],
   "source": [
    "import os\n",
    "import sys\n",
    "sys.path.append(os.path.abspath(\"..\"))\n",
    "import pickle\n",
    "import numpy as np\n",
    "import pandas as pd\n",
    "import copy\n",
    "from tqdm.autonotebook import tqdm\n",
    "import bayesianssa"
   ]
  },
  {
   "cell_type": "markdown",
   "id": "436e9234",
   "metadata": {},
   "source": [
    "### Preprocess"
   ]
  },
  {
   "cell_type": "code",
   "execution_count": 2,
   "id": "40a51b0e",
   "metadata": {},
   "outputs": [
    {
     "name": "stdout",
     "output_type": "stream",
     "text": [
      "H[c], NH3[c] do not flow.\n"
     ]
    }
   ],
   "source": [
    "parser = bayesianssa.ReactionFormulaParser(\n",
    "    f'../data/SSDesignSuppTable.csv',\n",
    "    ignored_reactions=['BIO'],\n",
    "    ignored_metabolites=['Export'])\n",
    "parser.parse()\n",
    "nu = parser.nu\n",
    "nu = bayesianssa.remove_non_flow_metabolites(nu)"
   ]
  },
  {
   "cell_type": "markdown",
   "id": "cdb53582",
   "metadata": {},
   "source": [
    "### Experimental settings"
   ]
  },
  {
   "cell_type": "code",
   "execution_count": 3,
   "id": "e6f2b1db",
   "metadata": {},
   "outputs": [],
   "source": [
    "n_iter = 10000\n",
    "a = 3\n",
    "b = 1"
   ]
  },
  {
   "cell_type": "markdown",
   "id": "1f1c3859",
   "metadata": {},
   "source": [
    "### Initial calculation"
   ]
  },
  {
   "cell_type": "code",
   "execution_count": 4,
   "id": "bb94a6ee",
   "metadata": {
    "collapsed": true
   },
   "outputs": [
    {
     "data": {
      "application/vnd.jupyter.widget-view+json": {
       "model_id": "e0a7ca82066441669d04112fc941eb1d",
       "version_major": 2,
       "version_minor": 0
      },
      "text/plain": [
       "  0%|          | 0/10000 [00:00<?, ?it/s]"
      ]
     },
     "metadata": {},
     "output_type": "display_data"
    },
    {
     "ename": "KeyboardInterrupt",
     "evalue": "",
     "output_type": "error",
     "traceback": [
      "\u001b[0;31m---------------------------------------------------------------------------\u001b[0m",
      "\u001b[0;31mKeyboardInterrupt\u001b[0m                         Traceback (most recent call last)",
      "\u001b[0;32m/tmp/ipykernel_60/3984636189.py\u001b[0m in \u001b[0;36m<module>\u001b[0;34m\u001b[0m\n\u001b[1;32m      3\u001b[0m init_bssa = bayesianssa.BayesianSSA(nu, indices, a, b,\n\u001b[1;32m      4\u001b[0m                                     n_iter=n_iter, verbose=False)\n\u001b[0;32m----> 5\u001b[0;31m \u001b[0minit_bssa\u001b[0m\u001b[0;34m.\u001b[0m\u001b[0mrun\u001b[0m\u001b[0;34m(\u001b[0m\u001b[0;34m)\u001b[0m\u001b[0;34m\u001b[0m\u001b[0;34m\u001b[0m\u001b[0m\n\u001b[0m",
      "\u001b[0;32m/work/SSA/GitHub/bayesianssa/_bayesianssa.py\u001b[0m in \u001b[0;36mrun\u001b[0;34m(self)\u001b[0m\n\u001b[1;32m    272\u001b[0m             \u001b[0mself\u001b[0m\u001b[0;34m.\u001b[0m\u001b[0m_empirical_run\u001b[0m\u001b[0;34m(\u001b[0m\u001b[0;34m)\u001b[0m\u001b[0;34m\u001b[0m\u001b[0;34m\u001b[0m\u001b[0m\n\u001b[1;32m    273\u001b[0m         \u001b[0;32melse\u001b[0m\u001b[0;34m:\u001b[0m\u001b[0;34m\u001b[0m\u001b[0;34m\u001b[0m\u001b[0m\n\u001b[0;32m--> 274\u001b[0;31m             \u001b[0msuper\u001b[0m\u001b[0;34m(\u001b[0m\u001b[0;34m)\u001b[0m\u001b[0;34m.\u001b[0m\u001b[0mrun\u001b[0m\u001b[0;34m(\u001b[0m\u001b[0;34m)\u001b[0m\u001b[0;34m\u001b[0m\u001b[0;34m\u001b[0m\u001b[0m\n\u001b[0m\u001b[1;32m    275\u001b[0m             \u001b[0mself\u001b[0m\u001b[0;34m.\u001b[0m\u001b[0mr_dist\u001b[0m \u001b[0;34m=\u001b[0m \u001b[0;34m'empirical'\u001b[0m\u001b[0;34m\u001b[0m\u001b[0;34m\u001b[0m\u001b[0m\n\u001b[1;32m    276\u001b[0m             \u001b[0mself\u001b[0m\u001b[0;34m.\u001b[0m\u001b[0mr_dist_param\u001b[0m \u001b[0;34m=\u001b[0m \u001b[0mnp\u001b[0m\u001b[0;34m.\u001b[0m\u001b[0mones\u001b[0m\u001b[0;34m(\u001b[0m\u001b[0mself\u001b[0m\u001b[0;34m.\u001b[0m\u001b[0mn_iter\u001b[0m\u001b[0;34m)\u001b[0m \u001b[0;34m/\u001b[0m \u001b[0mself\u001b[0m\u001b[0;34m.\u001b[0m\u001b[0mn_iter\u001b[0m\u001b[0;34m\u001b[0m\u001b[0;34m\u001b[0m\u001b[0m\n",
      "\u001b[0;32m/work/SSA/GitHub/bayesianssa/_bayesianssa.py\u001b[0m in \u001b[0;36mrun\u001b[0;34m(self)\u001b[0m\n\u001b[1;32m    224\u001b[0m             \u001b[0mr_vec\u001b[0m \u001b[0;34m=\u001b[0m \u001b[0mself\u001b[0m\u001b[0;34m.\u001b[0m\u001b[0m_generate_r_vec\u001b[0m\u001b[0;34m(\u001b[0m\u001b[0;34m)\u001b[0m\u001b[0;34m\u001b[0m\u001b[0;34m\u001b[0m\u001b[0m\n\u001b[1;32m    225\u001b[0m             \u001b[0mself\u001b[0m\u001b[0;34m.\u001b[0m\u001b[0mr_vecs\u001b[0m\u001b[0;34m.\u001b[0m\u001b[0mappend\u001b[0m\u001b[0;34m(\u001b[0m\u001b[0mr_vec\u001b[0m\u001b[0;34m)\u001b[0m\u001b[0;34m\u001b[0m\u001b[0;34m\u001b[0m\u001b[0m\n\u001b[0;32m--> 226\u001b[0;31m             \u001b[0mpoint_ssa\u001b[0m\u001b[0;34m.\u001b[0m\u001b[0mrun\u001b[0m\u001b[0;34m(\u001b[0m\u001b[0mr_vec\u001b[0m\u001b[0;34m)\u001b[0m\u001b[0;34m\u001b[0m\u001b[0;34m\u001b[0m\u001b[0m\n\u001b[0m\u001b[1;32m    227\u001b[0m             \u001b[0mthis_ST\u001b[0m\u001b[0;34m,\u001b[0m \u001b[0mthis_Q\u001b[0m \u001b[0;34m=\u001b[0m \u001b[0mpoint_ssa\u001b[0m\u001b[0;34m.\u001b[0m\u001b[0mget_STQ\u001b[0m\u001b[0;34m(\u001b[0m\u001b[0;34m)\u001b[0m\u001b[0;34m\u001b[0m\u001b[0;34m\u001b[0m\u001b[0m\n\u001b[1;32m    228\u001b[0m             \u001b[0mthis_A\u001b[0m \u001b[0;34m=\u001b[0m \u001b[0mpoint_ssa\u001b[0m\u001b[0;34m.\u001b[0m\u001b[0mget_A\u001b[0m\u001b[0;34m(\u001b[0m\u001b[0;34m)\u001b[0m\u001b[0;34m\u001b[0m\u001b[0;34m\u001b[0m\u001b[0m\n",
      "\u001b[0;32m/work/SSA/GitHub/bayesianssa/_bayesianssa.py\u001b[0m in \u001b[0;36mrun\u001b[0;34m(self, r_vec)\u001b[0m\n\u001b[1;32m    102\u001b[0m         \u001b[0mself\u001b[0m\u001b[0;34m.\u001b[0m\u001b[0m_make_r_matrix\u001b[0m\u001b[0;34m(\u001b[0m\u001b[0mr_vec\u001b[0m\u001b[0;34m)\u001b[0m\u001b[0;34m\u001b[0m\u001b[0;34m\u001b[0m\u001b[0m\n\u001b[1;32m    103\u001b[0m         \u001b[0mself\u001b[0m\u001b[0;34m.\u001b[0m\u001b[0m_make_matrix_A\u001b[0m\u001b[0;34m(\u001b[0m\u001b[0;34m)\u001b[0m\u001b[0;34m\u001b[0m\u001b[0;34m\u001b[0m\u001b[0m\n\u001b[0;32m--> 104\u001b[0;31m         \u001b[0mself\u001b[0m\u001b[0;34m.\u001b[0m\u001b[0m_make_sensitivity_matrix\u001b[0m\u001b[0;34m(\u001b[0m\u001b[0;34m)\u001b[0m\u001b[0;34m\u001b[0m\u001b[0;34m\u001b[0m\u001b[0m\n\u001b[0m\u001b[1;32m    105\u001b[0m \u001b[0;34m\u001b[0m\u001b[0m\n\u001b[1;32m    106\u001b[0m     \u001b[0;32mdef\u001b[0m \u001b[0m_combine_S_and_T\u001b[0m\u001b[0;34m(\u001b[0m\u001b[0mself\u001b[0m\u001b[0;34m,\u001b[0m \u001b[0mS\u001b[0m\u001b[0;34m,\u001b[0m \u001b[0mT\u001b[0m\u001b[0;34m)\u001b[0m\u001b[0;34m:\u001b[0m\u001b[0;34m\u001b[0m\u001b[0;34m\u001b[0m\u001b[0m\n",
      "\u001b[0;32m/work/SSA/GitHub/bayesianssa/_bayesianssa.py\u001b[0m in \u001b[0;36m_make_sensitivity_matrix\u001b[0;34m(self)\u001b[0m\n\u001b[1;32m     96\u001b[0m         \u001b[0;32mif\u001b[0m \u001b[0mself\u001b[0m\u001b[0;34m.\u001b[0m\u001b[0mverbose\u001b[0m\u001b[0;34m:\u001b[0m\u001b[0;34m\u001b[0m\u001b[0;34m\u001b[0m\u001b[0m\n\u001b[1;32m     97\u001b[0m             \u001b[0mprint\u001b[0m\u001b[0;34m(\u001b[0m\u001b[0;34m\"Made the sensitivity matrix.\"\u001b[0m\u001b[0;34m)\u001b[0m\u001b[0;34m\u001b[0m\u001b[0;34m\u001b[0m\u001b[0m\n\u001b[0;32m---> 98\u001b[0;31m         \u001b[0mself\u001b[0m\u001b[0;34m.\u001b[0m\u001b[0mS_sign\u001b[0m \u001b[0;34m=\u001b[0m \u001b[0mreturn_ndarray_sign\u001b[0m\u001b[0;34m(\u001b[0m\u001b[0mself\u001b[0m\u001b[0;34m.\u001b[0m\u001b[0mS\u001b[0m\u001b[0;34m)\u001b[0m\u001b[0;34m\u001b[0m\u001b[0;34m\u001b[0m\u001b[0m\n\u001b[0m\u001b[1;32m     99\u001b[0m         \u001b[0mself\u001b[0m\u001b[0;34m.\u001b[0m\u001b[0mT_sign\u001b[0m \u001b[0;34m=\u001b[0m \u001b[0mreturn_ndarray_sign\u001b[0m\u001b[0;34m(\u001b[0m\u001b[0mself\u001b[0m\u001b[0;34m.\u001b[0m\u001b[0mT\u001b[0m\u001b[0;34m)\u001b[0m\u001b[0;34m\u001b[0m\u001b[0;34m\u001b[0m\u001b[0m\n\u001b[1;32m    100\u001b[0m \u001b[0;34m\u001b[0m\u001b[0m\n",
      "\u001b[0;32m/work/SSA/GitHub/bayesianssa/_bayesianssa.py\u001b[0m in \u001b[0;36mreturn_ndarray_sign\u001b[0;34m(S, threshold)\u001b[0m\n\u001b[1;32m     30\u001b[0m         \u001b[0;32mfor\u001b[0m \u001b[0mj\u001b[0m \u001b[0;32min\u001b[0m \u001b[0mrange\u001b[0m\u001b[0;34m(\u001b[0m\u001b[0mJ\u001b[0m\u001b[0;34m)\u001b[0m\u001b[0;34m:\u001b[0m\u001b[0;34m\u001b[0m\u001b[0;34m\u001b[0m\u001b[0m\n\u001b[1;32m     31\u001b[0m             \u001b[0mSSignij\u001b[0m \u001b[0;34m=\u001b[0m \u001b[0;32mNone\u001b[0m\u001b[0;34m\u001b[0m\u001b[0;34m\u001b[0m\u001b[0m\n\u001b[0;32m---> 32\u001b[0;31m             \u001b[0;32mif\u001b[0m \u001b[0mabs\u001b[0m\u001b[0;34m(\u001b[0m\u001b[0mS\u001b[0m\u001b[0;34m[\u001b[0m\u001b[0mi\u001b[0m\u001b[0;34m]\u001b[0m\u001b[0;34m[\u001b[0m\u001b[0mj\u001b[0m\u001b[0;34m]\u001b[0m\u001b[0;34m)\u001b[0m \u001b[0;34m<\u001b[0m \u001b[0mthreshold\u001b[0m\u001b[0;34m:\u001b[0m\u001b[0;34m\u001b[0m\u001b[0;34m\u001b[0m\u001b[0m\n\u001b[0m\u001b[1;32m     33\u001b[0m                 \u001b[0mSSignij\u001b[0m \u001b[0;34m=\u001b[0m \u001b[0;34m'0'\u001b[0m\u001b[0;34m\u001b[0m\u001b[0;34m\u001b[0m\u001b[0m\n\u001b[1;32m     34\u001b[0m             \u001b[0;32melif\u001b[0m \u001b[0mS\u001b[0m\u001b[0;34m[\u001b[0m\u001b[0mi\u001b[0m\u001b[0;34m]\u001b[0m\u001b[0;34m[\u001b[0m\u001b[0mj\u001b[0m\u001b[0;34m]\u001b[0m \u001b[0;34m>\u001b[0m \u001b[0;36m0\u001b[0m\u001b[0;34m:\u001b[0m\u001b[0;34m\u001b[0m\u001b[0;34m\u001b[0m\u001b[0m\n",
      "\u001b[0;31mKeyboardInterrupt\u001b[0m: "
     ]
    }
   ],
   "source": [
    "indices = np.argwhere(nu.T.to_numpy() < 0)\n",
    "np.random.seed(0)\n",
    "init_bssa = bayesianssa.BayesianSSA(nu, indices, a, b,\n",
    "                                    n_iter=n_iter, verbose=False)\n",
    "init_bssa.run()"
   ]
  },
  {
   "cell_type": "code",
   "execution_count": 5,
   "id": "37a310bd",
   "metadata": {},
   "outputs": [],
   "source": [
    "with open(f'../results/ssa_results.pkl', 'wb') as f:\n",
    "    pickle.dump(init_bssa.Q_consensus, f)"
   ]
  },
  {
   "cell_type": "code",
   "execution_count": 6,
   "id": "2ea0e015",
   "metadata": {},
   "outputs": [],
   "source": [
    "with open(f'../results/initial_confs.pkl', 'wb') as f:\n",
    "    pickle.dump(init_bssa.confidence, f)"
   ]
  },
  {
   "cell_type": "markdown",
   "id": "f1e80c32",
   "metadata": {},
   "source": [
    "### Synthetic data generation"
   ]
  },
  {
   "cell_type": "code",
   "execution_count": 7,
   "id": "ab5bdd98",
   "metadata": {},
   "outputs": [],
   "source": [
    "Ns = 30"
   ]
  },
  {
   "cell_type": "code",
   "execution_count": 8,
   "id": "a482cbb5",
   "metadata": {},
   "outputs": [],
   "source": [
    "def generate_data(Ns, perturbed_reactions, is_pq_reversed,\n",
    "                  p=0.1, q=0.1, random_seed=0):\n",
    "    np.random.seed(random_seed)\n",
    "    Nr = len(perturbed_reactions)\n",
    "    if is_pq_reversed == None:\n",
    "        is_pq_reversed = [False] * Nr\n",
    "    rhos = []\n",
    "    for i in range(Nr):\n",
    "        if is_pq_reversed[i]:\n",
    "            rho = np.random.beta(q, p)\n",
    "        else:\n",
    "            rho = np.random.beta(p, q)\n",
    "        rhos.append(rho)\n",
    "    generated_data = []\n",
    "    for rho, perturbed_reaction in zip(rhos, perturbed_reactions):\n",
    "        for _ in range(Ns):\n",
    "            x = np.random.choice([1, 0], p=[rho, 1 - rho])\n",
    "            generated_data.append(['SUCCt', perturbed_reaction, x])\n",
    "    generated_data = pd.DataFrame(generated_data).sample(frac=1).to_numpy()\n",
    "    return perturbed_reactions, rhos, generated_data"
   ]
  },
  {
   "cell_type": "code",
   "execution_count": 9,
   "id": "4c4248ee",
   "metadata": {},
   "outputs": [],
   "source": [
    "perturbed_reactions = ['GND', 'PTS', 'PPC']\n",
    "is_pq_reversed=[True, True, False]"
   ]
  },
  {
   "cell_type": "code",
   "execution_count": 10,
   "id": "488cbffc",
   "metadata": {},
   "outputs": [],
   "source": [
    "perturbed_reactions, rhos, generated_data = generate_data(\n",
    "    Ns, perturbed_reactions, is_pq_reversed,\n",
    "    p=0.3, q=0.1, random_seed=0)"
   ]
  },
  {
   "cell_type": "code",
   "execution_count": 11,
   "id": "78f22510",
   "metadata": {},
   "outputs": [
    {
     "data": {
      "text/plain": [
       "[0.0075202575054505744, 0.04572269439620904, 0.8188253470361212]"
      ]
     },
     "execution_count": 11,
     "metadata": {},
     "output_type": "execute_result"
    }
   ],
   "source": [
    "rhos"
   ]
  },
  {
   "cell_type": "code",
   "execution_count": 12,
   "id": "e413e332",
   "metadata": {},
   "outputs": [
    {
     "data": {
      "text/plain": [
       "array([['SUCCt', 'PTS', 0],\n",
       "       ['SUCCt', 'PPC', 1],\n",
       "       ['SUCCt', 'PTS', 0],\n",
       "       ['SUCCt', 'PPC', 1],\n",
       "       ['SUCCt', 'GND', 0],\n",
       "       ['SUCCt', 'PPC', 1],\n",
       "       ['SUCCt', 'PTS', 0],\n",
       "       ['SUCCt', 'PPC', 1],\n",
       "       ['SUCCt', 'PTS', 0],\n",
       "       ['SUCCt', 'GND', 0],\n",
       "       ['SUCCt', 'PPC', 1],\n",
       "       ['SUCCt', 'GND', 0],\n",
       "       ['SUCCt', 'PPC', 0],\n",
       "       ['SUCCt', 'PPC', 1],\n",
       "       ['SUCCt', 'GND', 0],\n",
       "       ['SUCCt', 'PTS', 0],\n",
       "       ['SUCCt', 'PTS', 0],\n",
       "       ['SUCCt', 'GND', 0],\n",
       "       ['SUCCt', 'PTS', 0],\n",
       "       ['SUCCt', 'GND', 0],\n",
       "       ['SUCCt', 'PPC', 1],\n",
       "       ['SUCCt', 'GND', 0],\n",
       "       ['SUCCt', 'PPC', 1],\n",
       "       ['SUCCt', 'GND', 0],\n",
       "       ['SUCCt', 'GND', 0],\n",
       "       ['SUCCt', 'GND', 0],\n",
       "       ['SUCCt', 'PPC', 1],\n",
       "       ['SUCCt', 'PTS', 0],\n",
       "       ['SUCCt', 'GND', 0],\n",
       "       ['SUCCt', 'GND', 0],\n",
       "       ['SUCCt', 'PTS', 0],\n",
       "       ['SUCCt', 'PTS', 0],\n",
       "       ['SUCCt', 'PTS', 0],\n",
       "       ['SUCCt', 'PPC', 1],\n",
       "       ['SUCCt', 'PTS', 0],\n",
       "       ['SUCCt', 'PPC', 0],\n",
       "       ['SUCCt', 'PTS', 0],\n",
       "       ['SUCCt', 'GND', 0],\n",
       "       ['SUCCt', 'PPC', 0],\n",
       "       ['SUCCt', 'PTS', 0],\n",
       "       ['SUCCt', 'PPC', 1],\n",
       "       ['SUCCt', 'PTS', 0],\n",
       "       ['SUCCt', 'PTS', 0],\n",
       "       ['SUCCt', 'GND', 0],\n",
       "       ['SUCCt', 'PTS', 0],\n",
       "       ['SUCCt', 'GND', 0],\n",
       "       ['SUCCt', 'PPC', 1],\n",
       "       ['SUCCt', 'GND', 0],\n",
       "       ['SUCCt', 'PPC', 1],\n",
       "       ['SUCCt', 'PTS', 0],\n",
       "       ['SUCCt', 'PPC', 1],\n",
       "       ['SUCCt', 'GND', 0],\n",
       "       ['SUCCt', 'PTS', 0],\n",
       "       ['SUCCt', 'PTS', 0],\n",
       "       ['SUCCt', 'PPC', 1],\n",
       "       ['SUCCt', 'PTS', 0],\n",
       "       ['SUCCt', 'PPC', 1],\n",
       "       ['SUCCt', 'PTS', 0],\n",
       "       ['SUCCt', 'PTS', 0],\n",
       "       ['SUCCt', 'PTS', 0],\n",
       "       ['SUCCt', 'PPC', 1],\n",
       "       ['SUCCt', 'GND', 0],\n",
       "       ['SUCCt', 'PTS', 0],\n",
       "       ['SUCCt', 'GND', 0],\n",
       "       ['SUCCt', 'GND', 0],\n",
       "       ['SUCCt', 'PPC', 1],\n",
       "       ['SUCCt', 'GND', 0],\n",
       "       ['SUCCt', 'PPC', 1],\n",
       "       ['SUCCt', 'GND', 0],\n",
       "       ['SUCCt', 'PPC', 1],\n",
       "       ['SUCCt', 'GND', 0],\n",
       "       ['SUCCt', 'GND', 0],\n",
       "       ['SUCCt', 'PPC', 1],\n",
       "       ['SUCCt', 'PPC', 1],\n",
       "       ['SUCCt', 'PTS', 0],\n",
       "       ['SUCCt', 'PPC', 0],\n",
       "       ['SUCCt', 'GND', 0],\n",
       "       ['SUCCt', 'PPC', 1],\n",
       "       ['SUCCt', 'GND', 0],\n",
       "       ['SUCCt', 'PPC', 1],\n",
       "       ['SUCCt', 'PTS', 0],\n",
       "       ['SUCCt', 'GND', 0],\n",
       "       ['SUCCt', 'GND', 0],\n",
       "       ['SUCCt', 'GND', 0],\n",
       "       ['SUCCt', 'GND', 0],\n",
       "       ['SUCCt', 'PTS', 0],\n",
       "       ['SUCCt', 'PPC', 1],\n",
       "       ['SUCCt', 'PPC', 0],\n",
       "       ['SUCCt', 'PTS', 0],\n",
       "       ['SUCCt', 'PTS', 0]], dtype=object)"
      ]
     },
     "execution_count": 12,
     "metadata": {},
     "output_type": "execute_result"
    }
   ],
   "source": [
    "generated_data"
   ]
  },
  {
   "cell_type": "code",
   "execution_count": 13,
   "id": "e66add2e",
   "metadata": {},
   "outputs": [],
   "source": [
    "pd.DataFrame(generated_data).to_csv('../data/synthetic_perturbation_data.csv')"
   ]
  },
  {
   "cell_type": "markdown",
   "id": "2b242b2c",
   "metadata": {},
   "source": [
    "### Synthetic data experiments"
   ]
  },
  {
   "cell_type": "code",
   "execution_count": 14,
   "id": "0b641b88",
   "metadata": {},
   "outputs": [],
   "source": [
    "def evaluate_pred_prob(mth, calc_and_update_func, params, p_data):\n",
    "    pred_probs = []\n",
    "    for i, p_record in enumerate(tqdm(p_data)):\n",
    "        this_pred_prob = calc_and_update_func(mth, params, p_record)\n",
    "        pred_probs.append(this_pred_prob)\n",
    "    return pred_probs"
   ]
  },
  {
   "cell_type": "code",
   "execution_count": 15,
   "id": "e11fe27f",
   "metadata": {},
   "outputs": [],
   "source": [
    "def calc_and_update_BSSA(mth, params, p_record):\n",
    "    mth.a = params[0]\n",
    "    mth.b = params[1]\n",
    "    pred_prob = mth.calculate_predictive_prob(*p_record)\n",
    "    ex_results = {}\n",
    "    ex_results['target'] = [[p_record[0], p_record[1]]]\n",
    "    ex_results['up/down'] = [p_record[2]]\n",
    "    mth.update_distributions(ex_results)\n",
    "    return pred_prob"
   ]
  },
  {
   "cell_type": "code",
   "execution_count": 16,
   "id": "fd360d6f",
   "metadata": {},
   "outputs": [],
   "source": [
    "def not_update_base_method(mth, params, p_record):\n",
    "    pred_prob = mth.calculate_predictive_prob(*p_record)\n",
    "    return pred_prob"
   ]
  },
  {
   "cell_type": "code",
   "execution_count": 17,
   "id": "080975cc",
   "metadata": {},
   "outputs": [],
   "source": [
    "gen_pred_probs = {}"
   ]
  },
  {
   "cell_type": "code",
   "execution_count": 18,
   "id": "73c2523a",
   "metadata": {},
   "outputs": [],
   "source": [
    "params_list = [(9, 1), (6, 2), (3, 1), (2, 1)]"
   ]
  },
  {
   "cell_type": "code",
   "execution_count": 19,
   "id": "bf47027e",
   "metadata": {},
   "outputs": [
    {
     "data": {
      "application/vnd.jupyter.widget-view+json": {
       "model_id": "a6bfd05153d14ca2a7d709f1ad19aeed",
       "version_major": 2,
       "version_minor": 0
      },
      "text/plain": [
       "  0%|          | 0/90 [00:00<?, ?it/s]"
      ]
     },
     "metadata": {},
     "output_type": "display_data"
    },
    {
     "data": {
      "application/vnd.jupyter.widget-view+json": {
       "model_id": "13c5febb67b2410da02490e53ade775d",
       "version_major": 2,
       "version_minor": 0
      },
      "text/plain": [
       "  0%|          | 0/90 [00:00<?, ?it/s]"
      ]
     },
     "metadata": {},
     "output_type": "display_data"
    },
    {
     "data": {
      "application/vnd.jupyter.widget-view+json": {
       "model_id": "b64892f2dd0f40f0be984e4264ab8c3b",
       "version_major": 2,
       "version_minor": 0
      },
      "text/plain": [
       "  0%|          | 0/90 [00:00<?, ?it/s]"
      ]
     },
     "metadata": {},
     "output_type": "display_data"
    },
    {
     "data": {
      "application/vnd.jupyter.widget-view+json": {
       "model_id": "11245155532f4db2bf24d48d90ae8626",
       "version_major": 2,
       "version_minor": 0
      },
      "text/plain": [
       "  0%|          | 0/90 [00:00<?, ?it/s]"
      ]
     },
     "metadata": {},
     "output_type": "display_data"
    }
   ],
   "source": [
    "for params in params_list:\n",
    "    bssa = copy.deepcopy(init_bssa)\n",
    "    gen_pred_probs[f'BayesianSSA {params}'] = evaluate_pred_prob(\n",
    "        bssa, calc_and_update_BSSA, params, generated_data)"
   ]
  },
  {
   "cell_type": "code",
   "execution_count": 20,
   "id": "703ebf2f",
   "metadata": {},
   "outputs": [
    {
     "data": {
      "application/vnd.jupyter.widget-view+json": {
       "model_id": "1ad792922e7b4328a6e510808501dc63",
       "version_major": 2,
       "version_minor": 0
      },
      "text/plain": [
       "  0%|          | 0/90 [00:00<?, ?it/s]"
      ]
     },
     "metadata": {},
     "output_type": "display_data"
    }
   ],
   "source": [
    "base_method = copy.deepcopy(init_bssa)\n",
    "gen_pred_probs['Base method'] = evaluate_pred_prob(\n",
    "    base_method, not_update_base_method, None, generated_data)"
   ]
  },
  {
   "cell_type": "code",
   "execution_count": 21,
   "id": "209227ee",
   "metadata": {},
   "outputs": [],
   "source": [
    "def return_random(data):\n",
    "    return [0.5 for _ in range(len(data))]"
   ]
  },
  {
   "cell_type": "code",
   "execution_count": 22,
   "id": "85cb52b2",
   "metadata": {},
   "outputs": [],
   "source": [
    "gen_pred_probs['Random'] = return_random(generated_data)"
   ]
  },
  {
   "cell_type": "code",
   "execution_count": 23,
   "id": "061d5db0",
   "metadata": {},
   "outputs": [],
   "source": [
    "def pred_probs_to_losses(pred_probs):\n",
    "    loss = 0\n",
    "    losses = []\n",
    "    losses.append(loss)\n",
    "    for n, pred_prob in enumerate(pred_probs):\n",
    "        loss -= np.log(pred_prob)\n",
    "        losses.append(loss)\n",
    "    return losses"
   ]
  },
  {
   "cell_type": "code",
   "execution_count": 24,
   "id": "6df8f23b",
   "metadata": {},
   "outputs": [],
   "source": [
    "gen_losses = {}\n",
    "method_names = [\n",
    "                'BayesianSSA (9, 1)', \n",
    "                'BayesianSSA (6, 2)', \n",
    "                'BayesianSSA (3, 1)', \n",
    "                'BayesianSSA (2, 1)', \n",
    "                'Base method', \n",
    "                'Random'\n",
    "]\n",
    "for method_name in method_names:\n",
    "    gen_losses[method_name] = pred_probs_to_losses(gen_pred_probs[method_name])\n",
    "\n",
    "pd.DataFrame(gen_losses).to_csv('../results/synth_cross_entropy.csv')"
   ]
  },
  {
   "cell_type": "markdown",
   "id": "732630af",
   "metadata": {},
   "source": [
    "### Pseudo data experiments"
   ]
  },
  {
   "cell_type": "code",
   "execution_count": 25,
   "id": "be54657a",
   "metadata": {},
   "outputs": [],
   "source": [
    "p_mth = copy.deepcopy(init_bssa)"
   ]
  },
  {
   "cell_type": "code",
   "execution_count": 26,
   "id": "66a1c5a9",
   "metadata": {},
   "outputs": [],
   "source": [
    "ex_results = {}\n",
    "ex_results['target'] = [['SUCCt', 'GND']] * 10\n",
    "ex_results['up/down'] = [0] * 10\n",
    "p_mth.update_distributions(ex_results)\n",
    "p_mth.run()"
   ]
  },
  {
   "cell_type": "code",
   "execution_count": 27,
   "id": "36af4dff",
   "metadata": {},
   "outputs": [],
   "source": [
    "with open(f'../results/gnd_updated_confs.pkl', 'wb') as f:\n",
    "    pickle.dump(p_mth.confidence, f)"
   ]
  },
  {
   "cell_type": "code",
   "execution_count": 28,
   "id": "2525093f",
   "metadata": {},
   "outputs": [],
   "source": [
    "ex_results = {}\n",
    "ex_results['target'] = [['SUCCt', 'PTS']] * 10\n",
    "ex_results['up/down'] = [0] * 10\n",
    "p_mth.update_distributions(ex_results)\n",
    "p_mth.run()"
   ]
  },
  {
   "cell_type": "code",
   "execution_count": 29,
   "id": "997738f4",
   "metadata": {},
   "outputs": [],
   "source": [
    "with open(f'../results/gnd_pts_updated_confs.pkl', 'wb') as f:\n",
    "    pickle.dump(p_mth.confidence, f)"
   ]
  },
  {
   "cell_type": "markdown",
   "id": "2ded441a",
   "metadata": {},
   "source": [
    "##  Real data experiments"
   ]
  },
  {
   "cell_type": "markdown",
   "id": "4df1dcbf",
   "metadata": {},
   "source": [
    "###  Predictive performance"
   ]
  },
  {
   "cell_type": "markdown",
   "id": "536d6a71",
   "metadata": {},
   "source": [
    "#### Trajectory"
   ]
  },
  {
   "cell_type": "code",
   "execution_count": 30,
   "id": "d029329d",
   "metadata": {},
   "outputs": [],
   "source": [
    "class naive_bayes():\n",
    "    def __init__(self, a, b):\n",
    "        self.n = {}\n",
    "        self.a = a\n",
    "        self.b = b\n",
    "\n",
    "    def update_distributions(self, ex_results):\n",
    "        for up_down, (row_name, col_name) in zip(ex_results['up/down'], \n",
    "                                                 ex_results['target']):\n",
    "            # first observation of (m, j) results\n",
    "            if not (row_name, col_name) in self.n.keys():\n",
    "                self.n[(row_name, col_name)] = {'positive': 0, 'negative': 0}\n",
    "            if up_down == 1:\n",
    "                self.n[(row_name, col_name)]['positive'] += 1\n",
    "            elif up_down == 0:\n",
    "                self.n[(row_name, col_name)]['negative'] += 1\n",
    "\n",
    "    def calculate_predictive_prob(self, row_name, col_name, pos_or_neg):\n",
    "        if (row_name, col_name) in self.n.keys():\n",
    "            a_hat = self.a + self.n[(row_name, col_name)]['positive']\n",
    "            b_hat = self.b + self.n[(row_name, col_name)]['negative']\n",
    "        else:\n",
    "            a_hat = self.a\n",
    "            b_hat = self.b\n",
    "        if pos_or_neg == 1:\n",
    "            return a_hat / (a_hat + b_hat)\n",
    "        if pos_or_neg == 0:\n",
    "            return b_hat / (a_hat + b_hat)"
   ]
  },
  {
   "cell_type": "code",
   "execution_count": 31,
   "id": "bf00fd9b",
   "metadata": {},
   "outputs": [],
   "source": [
    "real_data = pd.read_csv('../data/real_perturbation_data.csv').sample(frac=1).to_numpy()"
   ]
  },
  {
   "cell_type": "code",
   "execution_count": 32,
   "id": "90ea9416",
   "metadata": {
    "scrolled": true
   },
   "outputs": [
    {
     "data": {
      "text/plain": [
       "array([['SUCCt', 'ME2', 0],\n",
       "       ['SUCCt', 'FBP', 0],\n",
       "       ['SUCCt', 'PTA', 0],\n",
       "       ['SUCCt', 'PPC', 0],\n",
       "       ['SUCCt', 'PTA', 0],\n",
       "       ['SUCCt', 'ME1', 0],\n",
       "       ['SUCCt', 'ME2', 0],\n",
       "       ['SUCCt', 'LDH', 0],\n",
       "       ['SUCCt', 'CS', 1],\n",
       "       ['SUCCt', 'PPS', 0],\n",
       "       ['SUCCt', 'ICL', 1],\n",
       "       ['SUCCt', 'PPS', 0],\n",
       "       ['SUCCt', 'FBP', 0],\n",
       "       ['SUCCt', 'PPC', 0],\n",
       "       ['SUCCt', 'FBP', 0],\n",
       "       ['SUCCt', 'CS', 1],\n",
       "       ['SUCCt', 'ME2', 0],\n",
       "       ['SUCCt', 'CS', 0],\n",
       "       ['SUCCt', 'ICL', 1],\n",
       "       ['SUCCt', 'PPC', 0],\n",
       "       ['SUCCt', 'PCK', 1],\n",
       "       ['SUCCt', 'ME1', 0],\n",
       "       ['SUCCt', 'LDH', 0],\n",
       "       ['SUCCt', 'LDH', 0],\n",
       "       ['SUCCt', 'PCK', 1],\n",
       "       ['SUCCt', 'ICL', 1],\n",
       "       ['SUCCt', 'PCK', 1],\n",
       "       ['SUCCt', 'PPS', 1],\n",
       "       ['SUCCt', 'PTA', 1],\n",
       "       ['SUCCt', 'ME1', 0]], dtype=object)"
      ]
     },
     "execution_count": 32,
     "metadata": {},
     "output_type": "execute_result"
    }
   ],
   "source": [
    "real_data"
   ]
  },
  {
   "cell_type": "code",
   "execution_count": 33,
   "id": "c079275d",
   "metadata": {},
   "outputs": [],
   "source": [
    "r_pred_probs = {}"
   ]
  },
  {
   "cell_type": "code",
   "execution_count": 34,
   "id": "e8f1de75",
   "metadata": {},
   "outputs": [],
   "source": [
    "params_list = [(9, 1), (6, 2), (3, 1), (2, 1)]"
   ]
  },
  {
   "cell_type": "code",
   "execution_count": 35,
   "id": "281e43b0",
   "metadata": {},
   "outputs": [
    {
     "data": {
      "application/vnd.jupyter.widget-view+json": {
       "model_id": "f5e9fdb0a666448ca281b7a4c5072ea1",
       "version_major": 2,
       "version_minor": 0
      },
      "text/plain": [
       "  0%|          | 0/30 [00:00<?, ?it/s]"
      ]
     },
     "metadata": {},
     "output_type": "display_data"
    },
    {
     "data": {
      "application/vnd.jupyter.widget-view+json": {
       "model_id": "aed7593cdc464671baecbf36b67bd0ac",
       "version_major": 2,
       "version_minor": 0
      },
      "text/plain": [
       "  0%|          | 0/30 [00:00<?, ?it/s]"
      ]
     },
     "metadata": {},
     "output_type": "display_data"
    },
    {
     "data": {
      "application/vnd.jupyter.widget-view+json": {
       "model_id": "5242dad53a53439ca11206432f1ee5a0",
       "version_major": 2,
       "version_minor": 0
      },
      "text/plain": [
       "  0%|          | 0/30 [00:00<?, ?it/s]"
      ]
     },
     "metadata": {},
     "output_type": "display_data"
    },
    {
     "data": {
      "application/vnd.jupyter.widget-view+json": {
       "model_id": "a0896be279e44934951be6711e754704",
       "version_major": 2,
       "version_minor": 0
      },
      "text/plain": [
       "  0%|          | 0/30 [00:00<?, ?it/s]"
      ]
     },
     "metadata": {},
     "output_type": "display_data"
    }
   ],
   "source": [
    "for params in params_list:\n",
    "    bssa = copy.deepcopy(init_bssa)\n",
    "    r_pred_probs[f'BayesianSSA {params}'] = evaluate_pred_prob(\n",
    "        bssa, calc_and_update_BSSA, params, real_data)"
   ]
  },
  {
   "cell_type": "code",
   "execution_count": 36,
   "id": "686c89c1",
   "metadata": {},
   "outputs": [
    {
     "data": {
      "application/vnd.jupyter.widget-view+json": {
       "model_id": "4f88874abc194a9aa24ef245fca90dea",
       "version_major": 2,
       "version_minor": 0
      },
      "text/plain": [
       "  0%|          | 0/30 [00:00<?, ?it/s]"
      ]
     },
     "metadata": {},
     "output_type": "display_data"
    }
   ],
   "source": [
    "base_method = copy.deepcopy(init_bssa)\n",
    "r_pred_probs['Base method'] = evaluate_pred_prob(\n",
    "    base_method, not_update_base_method, None, real_data)"
   ]
  },
  {
   "cell_type": "code",
   "execution_count": 37,
   "id": "2440c44f",
   "metadata": {},
   "outputs": [
    {
     "data": {
      "application/vnd.jupyter.widget-view+json": {
       "model_id": "7e5d5f3d43e94884a3b128375e0432d7",
       "version_major": 2,
       "version_minor": 0
      },
      "text/plain": [
       "  0%|          | 0/30 [00:00<?, ?it/s]"
      ]
     },
     "metadata": {},
     "output_type": "display_data"
    }
   ],
   "source": [
    "nb_model = naive_bayes(1, 1)\n",
    "params = (1, 1)\n",
    "r_pred_probs['Naive Bayes'] = evaluate_pred_prob(\n",
    "    nb_model, calc_and_update_BSSA, params, real_data)"
   ]
  },
  {
   "cell_type": "code",
   "execution_count": 38,
   "id": "b3ebf849",
   "metadata": {},
   "outputs": [],
   "source": [
    "r_pred_probs['Random'] = return_random(real_data)"
   ]
  },
  {
   "cell_type": "code",
   "execution_count": 39,
   "id": "e402f0b8",
   "metadata": {},
   "outputs": [],
   "source": [
    "r_losses = {}\n",
    "method_names = [\n",
    "                'BayesianSSA (9, 1)', \n",
    "                'BayesianSSA (6, 2)', \n",
    "                'BayesianSSA (3, 1)', \n",
    "                'BayesianSSA (2, 1)', \n",
    "                'Base method', \n",
    "                'Naive Bayes', \n",
    "                'Random'\n",
    "]\n",
    "for method_name in method_names:\n",
    "    r_losses[method_name] = pred_probs_to_losses(r_pred_probs[method_name])"
   ]
  },
  {
   "cell_type": "code",
   "execution_count": 40,
   "id": "c7998c44",
   "metadata": {},
   "outputs": [],
   "source": [
    "pd.DataFrame(r_losses).to_csv('../results/real_cross_entropy.csv')"
   ]
  },
  {
   "cell_type": "markdown",
   "id": "1b6212bb",
   "metadata": {},
   "source": [
    "#### Out of sample"
   ]
  },
  {
   "cell_type": "code",
   "execution_count": 41,
   "id": "942ac45f",
   "metadata": {},
   "outputs": [],
   "source": [
    "real_data_df = pd.DataFrame(real_data)\n",
    "real_data_df.columns = ['Observation', 'Perturbation', 'Result']\n",
    "perturbed_reactions = real_data_df['Perturbation'].unique().tolist()"
   ]
  },
  {
   "cell_type": "code",
   "execution_count": 42,
   "id": "4f651568",
   "metadata": {},
   "outputs": [],
   "source": [
    "def fit_bayesianssa(model, data):\n",
    "    ex_results = {}\n",
    "    ex_results['target'] = data[['Observation', 'Perturbation']].to_numpy()\n",
    "    ex_results['up/down'] = data['Result'].to_numpy()\n",
    "    model.update_distributions(ex_results)"
   ]
  },
  {
   "cell_type": "code",
   "execution_count": 43,
   "id": "7f464932",
   "metadata": {},
   "outputs": [],
   "source": [
    "pred_probs = []\n",
    "for perturbed_reaction in perturbed_reactions:\n",
    "    train_df = real_data_df[real_data_df['Perturbation'] != perturbed_reaction].copy()\n",
    "    test_df = real_data_df[real_data_df['Perturbation'] == perturbed_reaction].copy()\n",
    "    o_mth = copy.deepcopy(init_bssa)\n",
    "    fit_bayesianssa(o_mth, train_df)\n",
    "    for p_record in test_df.to_numpy():\n",
    "        pred_prob = o_mth.calculate_predictive_prob(*p_record)\n",
    "        pred_probs.append(pred_prob)"
   ]
  },
  {
   "cell_type": "code",
   "execution_count": 44,
   "id": "749ff31a",
   "metadata": {},
   "outputs": [],
   "source": [
    "pd.Series(pred_probs).to_csv('../results/new_perturb_pred_probs.csv')"
   ]
  },
  {
   "cell_type": "markdown",
   "id": "2d3e19ef",
   "metadata": {},
   "source": [
    "###  Distribution of $\\mathbf{r}$"
   ]
  },
  {
   "cell_type": "code",
   "execution_count": 62,
   "id": "d8fb2040",
   "metadata": {},
   "outputs": [],
   "source": [
    "from sklearn.decomposition import PCA\n",
    "from sklearn.manifold import MDS\n",
    "from sklearn.manifold import TSNE\n",
    "dr_class = TSNE\n",
    "dr_class = PCA"
   ]
  },
  {
   "cell_type": "code",
   "execution_count": 86,
   "id": "e1a4a51b",
   "metadata": {},
   "outputs": [],
   "source": [
    "r_viz_mth = copy.deepcopy(init_bssa)\n",
    "r_viz_fitted_mth = copy.deepcopy(init_bssa)\n",
    "fit_bayesianssa(r_viz_fitted_mth, real_data_df)"
   ]
  },
  {
   "cell_type": "code",
   "execution_count": 87,
   "id": "38ecc91c",
   "metadata": {},
   "outputs": [],
   "source": [
    "X = np.log(pd.DataFrame(r_viz_mth.r_vecs))\n",
    "weights = r_viz_fitted_mth.r_dist_param\n",
    "dr = dr_class(n_components=20, random_state=0)\n",
    "X_new = dr.fit_transform(X)\n",
    "pd.DataFrame(X_new).to_csv('../results/pca_r_vecs.csv')\n",
    "pd.DataFrame(weights).to_csv('../results/weights_for_pca.csv')"
   ]
  },
  {
   "cell_type": "markdown",
   "id": "351a5c7d",
   "metadata": {},
   "source": [
    "#### Covariance"
   ]
  },
  {
   "cell_type": "code",
   "execution_count": 48,
   "id": "ea204ea6",
   "metadata": {},
   "outputs": [],
   "source": [
    "X_arr = X.to_numpy()"
   ]
  },
  {
   "cell_type": "code",
   "execution_count": 49,
   "id": "6b2a1482",
   "metadata": {},
   "outputs": [],
   "source": [
    "term1 = np.zeros((X_arr.shape[1], X_arr.shape[1], X_arr.shape[0]))\n",
    "for v in range(X_arr.shape[0]):\n",
    "    tmp_mat = X_arr[v].reshape(-1, 1) @ X_arr[v].reshape(1, -1)\n",
    "    term1[:, :, v] = tmp_mat\n",
    "term1 = term1 @ weights"
   ]
  },
  {
   "cell_type": "code",
   "execution_count": 50,
   "id": "2c91f821",
   "metadata": {},
   "outputs": [],
   "source": [
    "term2 = X.T @ weights\n",
    "term2 = term2.to_numpy().reshape(-1, 1) @ term2.to_numpy().reshape(1, -1)"
   ]
  },
  {
   "cell_type": "code",
   "execution_count": 51,
   "id": "cf0ec870",
   "metadata": {},
   "outputs": [],
   "source": [
    "r_cov = term1 - term2"
   ]
  },
  {
   "cell_type": "code",
   "execution_count": 52,
   "id": "8d41b243",
   "metadata": {},
   "outputs": [],
   "source": [
    "pd.DataFrame(r_cov).to_csv('../results/posterior_r_cov.csv')"
   ]
  },
  {
   "cell_type": "code",
   "execution_count": 53,
   "id": "3b934c20",
   "metadata": {},
   "outputs": [],
   "source": [
    "pd.DataFrame(X_arr).cov().to_csv('../results/prior_r_cov.csv')"
   ]
  },
  {
   "cell_type": "code",
   "execution_count": 54,
   "id": "148c0a01",
   "metadata": {},
   "outputs": [
    {
     "data": {
      "text/plain": [
       "(127, 127)"
      ]
     },
     "execution_count": 54,
     "metadata": {},
     "output_type": "execute_result"
    }
   ],
   "source": [
    "r_cov.shape"
   ]
  },
  {
   "cell_type": "markdown",
   "id": "1647372c",
   "metadata": {},
   "source": [
    "###  Confidence values"
   ]
  },
  {
   "cell_type": "code",
   "execution_count": 55,
   "id": "f59bc463",
   "metadata": {},
   "outputs": [],
   "source": [
    "r_mth = copy.deepcopy(init_bssa)"
   ]
  },
  {
   "cell_type": "code",
   "execution_count": 56,
   "id": "2cba777e",
   "metadata": {},
   "outputs": [],
   "source": [
    "ex_results = {}\n",
    "ex_results['target'] = real_data[:, :2]\n",
    "ex_results['up/down'] = real_data[:, 2]\n",
    "r_mth.update_distributions(ex_results)\n",
    "r_mth.run()"
   ]
  },
  {
   "cell_type": "code",
   "execution_count": 57,
   "id": "783bbbfc",
   "metadata": {},
   "outputs": [],
   "source": [
    "with open(f'../results/real_updated_confs.pkl', 'wb') as f:\n",
    "    pickle.dump(r_mth.confidence, f)"
   ]
  },
  {
   "cell_type": "markdown",
   "id": "0ab8d83f",
   "metadata": {},
   "source": [
    "#### Different prior distribution"
   ]
  },
  {
   "cell_type": "code",
   "execution_count": 58,
   "id": "07fd41cc",
   "metadata": {},
   "outputs": [],
   "source": [
    "def random_log_normal(mu_var, sigma_var, size=1):\n",
    "    r = []\n",
    "    for i in range(size):\n",
    "        mu = np.random.normal(0, mu_var)\n",
    "        sigma = np.exp(np.random.normal(0, sigma_var))\n",
    "        r.append(np.random.lognormal(mu, sigma))\n",
    "    return np.array(r)"
   ]
  },
  {
   "cell_type": "code",
   "execution_count": 59,
   "id": "51a3a148",
   "metadata": {},
   "outputs": [
    {
     "data": {
      "application/vnd.jupyter.widget-view+json": {
       "model_id": "7018f7a7919741eca0251bf51b447c19",
       "version_major": 2,
       "version_minor": 0
      },
      "text/plain": [
       "  0%|          | 0/10000 [00:00<?, ?it/s]"
      ]
     },
     "metadata": {},
     "output_type": "display_data"
    }
   ],
   "source": [
    "indices = np.argwhere(nu.T.to_numpy() < 0)\n",
    "np.random.seed(0)\n",
    "rln_mth = bayesianssa.BayesianSSA(nu, indices, a, b,\n",
    "                                  r_dist=random_log_normal, r_dist_param=[1, 1],\n",
    "                                  n_iter=n_iter, verbose=False)\n",
    "rln_mth.run()"
   ]
  },
  {
   "cell_type": "code",
   "execution_count": 60,
   "id": "ec029f48",
   "metadata": {},
   "outputs": [],
   "source": [
    "ex_results = {}\n",
    "ex_results['target'] = real_data[:, :2]\n",
    "ex_results['up/down'] = real_data[:, 2]\n",
    "rln_mth.update_distributions(ex_results)\n",
    "rln_mth.run()"
   ]
  },
  {
   "cell_type": "code",
   "execution_count": 61,
   "id": "79ac3ff8",
   "metadata": {},
   "outputs": [],
   "source": [
    "with open(f'../results/real_updated_rln_confs.pkl', 'wb') as f:\n",
    "    pickle.dump(rln_mth.confidence, f)"
   ]
  }
 ],
 "metadata": {
  "kernelspec": {
   "display_name": "Python 3 (ipykernel)",
   "language": "python",
   "name": "python3"
  },
  "language_info": {
   "codemirror_mode": {
    "name": "ipython",
    "version": 3
   },
   "file_extension": ".py",
   "mimetype": "text/x-python",
   "name": "python",
   "nbconvert_exporter": "python",
   "pygments_lexer": "ipython3",
   "version": "3.7.9"
  }
 },
 "nbformat": 4,
 "nbformat_minor": 5
}
